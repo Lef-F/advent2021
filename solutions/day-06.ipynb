{
 "cells": [
  {
   "cell_type": "markdown",
   "metadata": {},
   "source": [
    "# Day 6: Lanternfish\n",
    "\n",
    "The sea floor is getting steeper. Maybe the sleigh keys got carried this way?\n",
    "\n",
    "A massive school of glowing lanternfish swims past. They must spawn quickly to reach such large numbers - maybe exponentially quickly? You should model their growth rate to be sure.\n",
    "\n",
    "Although you know nothing about this specific species of lanternfish, you make some guesses about their attributes. Surely, each lanternfish creates a new lanternfish once every 7 days.\n",
    "\n",
    "However, this process isn't necessarily synchronized between every lanternfish - one lanternfish might have 2 days left until it creates another lanternfish, while another might have 4. So, you can model each fish as a single number that represents the number of days until it creates a new lanternfish.\n",
    "\n",
    "Furthermore, you reason, a new lanternfish would surely need slightly longer before it's capable of producing more lanternfish: two more days for its first cycle.\n",
    "\n",
    "So, suppose you have a lanternfish with an internal timer value of 3:\n",
    "\n",
    "- After one day, its internal timer would become 2.\n",
    "- After another day, its internal timer would become 1.\n",
    "- After another day, its internal timer would become 0.\n",
    "- After another day, its internal timer would reset to 6, and it would create a new lanternfish with an internal timer of 8.\n",
    "- After another day, the first lanternfish would have an internal timer of 5, and the second lanternfish would have an internal timer of 7.\n",
    "\n",
    "A lanternfish that creates a new fish resets its timer to 6, not 7 (because 0 is included as a valid timer value). The new lanternfish starts with an internal timer of 8 and does not start counting down until the next day.\n",
    "\n",
    "Realizing what you're trying to do, the submarine automatically produces a list of the ages of several hundred nearby lanternfish (your puzzle input). For example, suppose you were given the following list:\n",
    "\n",
    "```\n",
    "3,4,3,1,2\n",
    "```\n",
    "\n",
    "This list means that the first fish has an internal timer of 3, the second fish has an internal timer of 4, and so on until the fifth fish, which has an internal timer of 2. Simulating these fish over several days would proceed as follows:\n",
    "\n",
    "```\n",
    "Initial state: 3,4,3,1,2\n",
    "After  1 day:  2,3,2,0,1\n",
    "After  2 days: 1,2,1,6,0,8\n",
    "After  3 days: 0,1,0,5,6,7,8\n",
    "After  4 days: 6,0,6,4,5,6,7,8,8\n",
    "After  5 days: 5,6,5,3,4,5,6,7,7,8\n",
    "After  6 days: 4,5,4,2,3,4,5,6,6,7\n",
    "After  7 days: 3,4,3,1,2,3,4,5,5,6\n",
    "After  8 days: 2,3,2,0,1,2,3,4,4,5\n",
    "After  9 days: 1,2,1,6,0,1,2,3,3,4,8\n",
    "After 10 days: 0,1,0,5,6,0,1,2,2,3,7,8\n",
    "After 11 days: 6,0,6,4,5,6,0,1,1,2,6,7,8,8,8\n",
    "After 12 days: 5,6,5,3,4,5,6,0,0,1,5,6,7,7,7,8,8\n",
    "After 13 days: 4,5,4,2,3,4,5,6,6,0,4,5,6,6,6,7,7,8,8\n",
    "After 14 days: 3,4,3,1,2,3,4,5,5,6,3,4,5,5,5,6,6,7,7,8\n",
    "After 15 days: 2,3,2,0,1,2,3,4,4,5,2,3,4,4,4,5,5,6,6,7\n",
    "After 16 days: 1,2,1,6,0,1,2,3,3,4,1,2,3,3,3,4,4,5,5,6,8\n",
    "After 17 days: 0,1,0,5,6,0,1,2,2,3,0,1,2,2,2,3,3,4,4,5,7,8\n",
    "After 18 days: 6,0,6,4,5,6,0,1,1,2,6,0,1,1,1,2,2,3,3,4,6,7,8,8,8,8\n",
    "```\n",
    "\n",
    "Each day, a 0 becomes a 6 and adds a new 8 to the end of the list, while each other number decreases by 1 if it was present at the start of the day.\n",
    "\n",
    "In this example, after 18 days, there are a total of 26 fish. After 80 days, there would be a total of 5934.\n",
    "\n",
    "Find a way to simulate lanternfish. How many lanternfish would there be after 80 days?\n",
    "\n"
   ]
  },
  {
   "cell_type": "markdown",
   "metadata": {},
   "source": [
    "## fish modules, initiate!"
   ]
  },
  {
   "cell_type": "code",
   "execution_count": 170,
   "metadata": {},
   "outputs": [],
   "source": [
    "class Lanternfish:\n",
    "    def __init__(self, age: int = 6, is_newborn: bool = True) -> None:\n",
    "        self.days_to_next_child = age\n",
    "        self.is_newborn = is_newborn\n",
    "        if self.is_newborn:\n",
    "            self.days_to_next_child = 6 + 2\n",
    "\n",
    "    def tick(self):\n",
    "        if self.days_to_next_child == 0:\n",
    "            self.days_to_next_child = 6\n",
    "            return True\n",
    "        else:\n",
    "            self.days_to_next_child -= 1\n",
    "            return False"
   ]
  },
  {
   "cell_type": "markdown",
   "metadata": {},
   "source": [
    "loooading the initial fish net"
   ]
  },
  {
   "cell_type": "code",
   "execution_count": 171,
   "metadata": {},
   "outputs": [],
   "source": [
    "with open('../data/day_06_puzzle_1', 'r') as f:\n",
    "    submarine_ages_input = f.readlines()\n",
    "    submarine_ages_input = [ \n",
    "        int(age.replace('\\n','')) for age in submarine_ages_input[0].split(',') \n",
    "    ]"
   ]
  },
  {
   "cell_type": "markdown",
   "metadata": {},
   "source": [
    "visual check that it looks good"
   ]
  },
  {
   "cell_type": "code",
   "execution_count": 172,
   "metadata": {},
   "outputs": [
    {
     "data": {
      "text/plain": [
       "[4, 1, 3, 2, 4]"
      ]
     },
     "execution_count": 172,
     "metadata": {},
     "output_type": "execute_result"
    }
   ],
   "source": [
    "submarine_ages_input[:5]"
   ]
  },
  {
   "cell_type": "code",
   "execution_count": 173,
   "metadata": {},
   "outputs": [
    {
     "name": "stdout",
     "output_type": "stream",
     "text": [
      "Initial state 300 4,1,3,2,4,3,1,4,4,1\n",
      "Day 80 375482 1,5,0,6,1,0,5,1,1,5\n",
      "yooo you got 375482 around\n"
     ]
    }
   ],
   "source": [
    "# uncomment in case you wanna test the given example\n",
    "# submarine_ages_input = [3,4,3,1,2]\n",
    "fishes = []\n",
    "for fish_age in submarine_ages_input:\n",
    "    # fish init <3\n",
    "    fishes.append(Lanternfish(fish_age, False))\n",
    "print('Initial state', len(fishes), ','.join([str(f.days_to_next_child) for f in fishes[:10]]))\n",
    "\n",
    "eggs = []\n",
    "track = 0\n",
    "for day in range(1, 80+1):\n",
    "    eggs = []\n",
    "    for fish in fishes:\n",
    "        if fish.tick():\n",
    "            eggs.append(Lanternfish())\n",
    "    fishes += eggs\n",
    "    # print('Day', day, len(fishes), ','.join([str(f.days_to_next_child) for f in fishes[:10]]))\n",
    "    \n",
    "print('Day', day, len(fishes), ','.join([str(f.days_to_next_child) for f in fishes[:10]]))\n",
    "print(f'yooo you got {len(fishes)} around')"
   ]
  },
  {
   "cell_type": "markdown",
   "metadata": {},
   "source": [
    "# Part Two\n",
    "\n",
    "Suppose the lanternfish live forever and have unlimited food and space. Would they take over the entire ocean?\n",
    "\n",
    "After 256 days in the example above, there would be a total of 26984457539 lanternfish!\n",
    "\n",
    "How many lanternfish would there be after 256 days?\n",
    "\n",
    "## letsdothis\n",
    "\n",
    "welp my RAM thinks it wasn't so smart to use OOP, so let's try this again.\n",
    "\n",
    "this time instead we will keep track of the total numbers of fish per age and move them around accordingly each day.\n",
    "\n",
    "we'll start with a dictionary of listed fish per age group like so\n",
    "\n",
    "```python\n",
    "{\n",
    "    '0': 0,\n",
    "    '1': 0,\n",
    "    '2': 0,\n",
    "    # etc\n",
    "    '8': 0,\n",
    "}\n",
    "```"
   ]
  },
  {
   "cell_type": "code",
   "execution_count": 169,
   "metadata": {},
   "outputs": [
    {
     "name": "stdout",
     "output_type": "stream",
     "text": [
      "yaaoaooeeeh there are 1689540415957 fishes on day 256\n"
     ]
    }
   ],
   "source": [
    "fishes = { str(age): 0 for age in range(9) }\n",
    "\n",
    "# uncomment if you wanna test the example\n",
    "# submarine_ages_input = [3,4,3,1,2]\n",
    "\n",
    "for fish in submarine_ages_input:\n",
    "    fishes[str(fish)] += 1\n",
    "\n",
    "for day in range(1,256+1):\n",
    "    update = { str(age): 0 for age in range(9) }\n",
    "    for age in range(8,-1,-1):\n",
    "        if age == 0:\n",
    "            update['6'] += fishes[str(age)]\n",
    "            update['8'] += fishes[str(age)]\n",
    "        else:\n",
    "            update[str(int(age) - 1)] = fishes[str(age)]\n",
    "    fishes.update(update)\n",
    "\n",
    "total_fish = 0\n",
    "for age, num in fishes.items():\n",
    "    total_fish += num\n",
    "print(f'yaaoaooeeeh there are {total_fish} fishes on day {day}')"
   ]
  }
 ],
 "metadata": {
  "interpreter": {
   "hash": "f96c4193ab10d5fff2e691bfe69de07d4010d6dcc887300190acbc919acc9b1d"
  },
  "kernelspec": {
   "display_name": "Python 3.9.8 64-bit ('advent2021-sEGx-kI--py3.9': poetry)",
   "language": "python",
   "name": "python3"
  },
  "language_info": {
   "codemirror_mode": {
    "name": "ipython",
    "version": 3
   },
   "file_extension": ".py",
   "mimetype": "text/x-python",
   "name": "python",
   "nbconvert_exporter": "python",
   "pygments_lexer": "ipython3",
   "version": "3.9.8"
  },
  "orig_nbformat": 4
 },
 "nbformat": 4,
 "nbformat_minor": 2
}
