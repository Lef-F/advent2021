{
 "cells": [
  {
   "cell_type": "markdown",
   "metadata": {},
   "source": [
    "# Day 11\n",
    "\n",
    "Too much text.\n",
    "[You can see it for yourself here.](https://adventofcode.com/2021/day/11)\n",
    "\n",
    "TL;DR:\n",
    ">You enter a large cavern full of rare bioluminescent dumbo octopuses! They seem to not like the Christmas lights on your submarine, so you turn them off for now.\n",
    "> \n",
    "> There are 100 octopuses arranged neatly in a 10 by 10 grid. Each octopus slowly gains energy over time and flashes brightly for a moment when its energy is full. Although your lights are off, maybe you could navigate through the cave without disturbing the octopuses if you could predict when the flashes of light will happen.\n",
    "> \n",
    "> Each octopus has an energy level - your submarine can remotely measure the energy level of each octopus."
   ]
  },
  {
   "cell_type": "markdown",
   "metadata": {},
   "source": [
    "## Load n Read stuff"
   ]
  },
  {
   "cell_type": "code",
   "execution_count": null,
   "metadata": {},
   "outputs": [],
   "source": [
    "import numpy as np\n",
    "import matplotlib.pyplot as plt\n",
    "from matplotlib import animation"
   ]
  },
  {
   "cell_type": "code",
   "execution_count": null,
   "metadata": {},
   "outputs": [],
   "source": [
    "example_input = [\n",
    "    '5483143223',\n",
    "    '2745854711',\n",
    "    '5264556173',\n",
    "    '6141336146',\n",
    "    '6357385478',\n",
    "    '4167524645',\n",
    "    '2176841721',\n",
    "    '6882881134',\n",
    "    '4846848554',\n",
    "    '5283751526',\n",
    "]"
   ]
  },
  {
   "cell_type": "code",
   "execution_count": null,
   "metadata": {},
   "outputs": [],
   "source": [
    "with open('../data/day_11_puzzle_1') as f:\n",
    "    input_data = f.readlines()\n",
    "\n",
    "# input_data = example_input\n",
    "input_data"
   ]
  },
  {
   "cell_type": "markdown",
   "metadata": {},
   "source": [
    "## Clean your data maaaan\n",
    "\n",
    "- Remove newline characters (`\\n`) from your data\n",
    "- Convert each row of data to a list of integers (`int`)\n",
    "- Use hard to read list comprehension for bonus minus points 🌚"
   ]
  },
  {
   "cell_type": "code",
   "execution_count": null,
   "metadata": {},
   "outputs": [],
   "source": [
    "grid = [[int(octopus_energy) for octopus_energy in row.replace('\\n','')] for row in input_data]\n",
    "grid = np.array(grid)\n",
    "print('Your grid has a shape of:', grid.shape)\n",
    "print('And it\\' been initialized as:')\n",
    "print(grid)"
   ]
  },
  {
   "cell_type": "markdown",
   "metadata": {},
   "source": [
    "## Run octopus simulation\n",
    "\n",
    "To configure the simulation, please input the number of `steps` you wish to simulate to.\n",
    "\n",
    "The octopus simulator can be used in two ways:\n",
    "1. Set the number of steps in the future that you need to predict to in order to get the exact number of octopus flashes.\n",
    "2. Set the number of steps to a large number (e.g. `500`) in order to find when the octopuses first sync.\n",
    "If you don't see any results keep increasing the simulation step number until you get a result!"
   ]
  },
  {
   "cell_type": "code",
   "execution_count": null,
   "metadata": {},
   "outputs": [],
   "source": [
    "steps = 500"
   ]
  },
  {
   "cell_type": "code",
   "execution_count": null,
   "metadata": {},
   "outputs": [],
   "source": [
    "live_grid = grid.copy()\n",
    "grid_rows = live_grid.shape[0]\n",
    "grid_cols = live_grid.shape[1]\n",
    "flashes = 0\n",
    "simultaneous_flash_flag = False\n",
    "frames = [live_grid.tolist()]\n",
    "\n",
    "for step in range(steps):\n",
    "    live_grid += 1\n",
    "    changes = True\n",
    "    previous_grid_state = live_grid.copy()\n",
    "    loops_to_changes = 0\n",
    "    while changes:\n",
    "        loops_to_changes += 1\n",
    "        for row in range(grid_rows):\n",
    "            for col in range(grid_cols):\n",
    "                octopus = live_grid[row, col]\n",
    "                if octopus > 9:\n",
    "                    # octopus flashed!\n",
    "                    live_grid[row, col] = 0\n",
    "                    flashes += 1\n",
    "                    # update octopuses above\n",
    "                    if row - 1 >= 0:\n",
    "                        if col + 1 <= grid_cols - 1:\n",
    "                            if live_grid[row - 1, col + 1] != 0:\n",
    "                                live_grid[row - 1, col + 1] += 1\n",
    "\n",
    "                        if live_grid[row - 1, col] != 0:\n",
    "                            live_grid[row - 1, col] += 1\n",
    "\n",
    "                        if col - 1 >= 0:\n",
    "                            if live_grid[row - 1, col - 1] != 0:\n",
    "                                live_grid[row - 1, col - 1] += 1\n",
    "\n",
    "                    # update octopuses below\n",
    "                    if row + 1 <= grid_rows - 1:\n",
    "                        if col + 1 <= grid_cols - 1:\n",
    "                            if live_grid[row + 1, col + 1] != 0:\n",
    "                                live_grid[row + 1, col + 1] += 1\n",
    "\n",
    "                        if live_grid[row + 1, col] != 0:\n",
    "                            live_grid[row + 1, col] += 1\n",
    "\n",
    "                        if col - 1 >= 0:\n",
    "                            if live_grid[row + 1, col - 1] != 0:\n",
    "                                live_grid[row + 1, col - 1] += 1\n",
    "\n",
    "                    # update octopuses left\n",
    "                    if col - 1 >= 0:\n",
    "                        if live_grid[row, col - 1] != 0:\n",
    "                            live_grid[row, col - 1] += 1\n",
    "                    # update octopuses right\n",
    "                    if col + 1 <= grid_cols - 1:\n",
    "                        if live_grid[row, col + 1] != 0:\n",
    "                            live_grid[row, col + 1] += 1\n",
    "\n",
    "        if (live_grid == previous_grid_state).all():\n",
    "            changes = False\n",
    "        previous_grid_state = live_grid.copy()\n",
    "\n",
    "    frames.append(live_grid.tolist())\n",
    "\n",
    "    if live_grid.sum() == 0:\n",
    "        simultaneous_flash_flag = True\n",
    "        print(f'In step {step + 1:5d} all octopuses will flash simultaneously!')\n",
    "\n",
    "print(f'Octopuses flashed {flashes:6d} times')\n",
    "\n",
    "if not simultaneous_flash_flag:\n",
    "    print('Looks like the octopuses did not flash simultaneously in any future step of your simulation. Try increasing the number of steps!')\n",
    "            \n",
    "\n",
    "            "
   ]
  },
  {
   "cell_type": "markdown",
   "metadata": {},
   "source": [
    "## Animate!\n",
    "\n",
    "A blast from the past!\n",
    "The great tutorial author Jake came to the rescue!\n",
    "With his [tutorial](https://jakevdp.github.io/blog/2012/08/18/matplotlib-animation-tutorial/) we managed to create a sweet animation of the octopus simulation!\n",
    "\n",
    "Thus we modified his solution to fit our submarine system."
   ]
  },
  {
   "cell_type": "code",
   "execution_count": null,
   "metadata": {},
   "outputs": [],
   "source": [
    "\"\"\"\n",
    "Matplotlib Animation Example\n",
    "\n",
    "author: Jake Vanderplas\n",
    "email: vanderplas@astro.washington.edu\n",
    "website: http://jakevdp.github.com\n",
    "license: BSD\n",
    "Please feel free to use and modify this, but keep the above information. Thanks!\n",
    "\"\"\"\n",
    "\n",
    "# First set up the figure, the axis, and the plot element we want to animate\n",
    "fig = plt.figure()\n",
    "img = plt.imshow(frames[0], interpolation='none')\n",
    "# plt.colorbar(boundaries=BoundaryNorm([i for i in range(10)], 10))\n",
    "plt.axis('off')\n",
    "plt.title(f'Step {0:4d}')\n",
    "\n",
    "# initialization function: plot the background of each frame\n",
    "def init():\n",
    "    img.set_data(frames[0])\n",
    "    plt.title(f'Step {0:4d}')\n",
    "    return img,\n",
    "\n",
    "# animation function.  This is called sequentially\n",
    "def animate(i):\n",
    "    img.set_data(frames[i])\n",
    "    plt.title(f'Step {i+1:4d}')\n",
    "    return img,\n",
    "\n",
    "# call the animator.  blit=True means only re-draw the parts that have changed.\n",
    "anim = animation.FuncAnimation(fig, animate, init_func=init,\n",
    "                               frames=500, interval=1, blit=True)\n",
    "\n",
    "# save the animation as an mp4.  This requires ffmpeg or mencoder to be\n",
    "# installed.  The extra_args ensure that the x264 codec is used, so that\n",
    "# the video can be embedded in html5.  You may need to adjust this for\n",
    "# your system: for more information, see\n",
    "# http://matplotlib.sourceforge.net/api/animation_api.html\n",
    "anim.save('outputs/day-11_octopuses_flashing.mp4', fps=10, extra_args=['-vcodec', 'libx264'])\n",
    "\n",
    "plt.show()"
   ]
  },
  {
   "cell_type": "markdown",
   "metadata": {},
   "source": [
    "# Tada!\n",
    "\n",
    "Enjoy your sweet octopus simulation over at [day-11_octopuses_flashing.mp4](/solutions/outputs/day-11_octopuses_flashing.mp4)"
   ]
  }
 ],
 "metadata": {
  "interpreter": {
   "hash": "f96c4193ab10d5fff2e691bfe69de07d4010d6dcc887300190acbc919acc9b1d"
  },
  "kernelspec": {
   "display_name": "Python 3.9.9 64-bit ('advent2021-sEGx-kI--py3.9': venv)",
   "language": "python",
   "name": "python3"
  },
  "language_info": {
   "codemirror_mode": {
    "name": "ipython",
    "version": 3
   },
   "file_extension": ".py",
   "mimetype": "text/x-python",
   "name": "python",
   "nbconvert_exporter": "python",
   "pygments_lexer": "ipython3",
   "version": "3.9.9"
  },
  "orig_nbformat": 4
 },
 "nbformat": 4,
 "nbformat_minor": 2
}
