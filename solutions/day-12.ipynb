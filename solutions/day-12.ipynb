{
 "cells": [
  {
   "cell_type": "code",
   "execution_count": 1,
   "metadata": {},
   "outputs": [],
   "source": [
    "import networkx as nx\n",
    "import matplotlib.pyplot as plt\n",
    "import re"
   ]
  },
  {
   "cell_type": "code",
   "execution_count": 2,
   "metadata": {},
   "outputs": [],
   "source": [
    "with open('../data/day_12_puzzle_1', 'r') as f:\n",
    "    input_data = f.readlines()"
   ]
  },
  {
   "cell_type": "code",
   "execution_count": 3,
   "metadata": {},
   "outputs": [],
   "source": [
    "simple_example = \"\"\"\n",
    "start-A\n",
    "start-b\n",
    "A-c\n",
    "A-b\n",
    "b-d\n",
    "A-end\n",
    "b-end\n",
    "\"\"\"\n",
    "\n",
    "advanced_example = \"\"\"\n",
    "dc-end\n",
    "HN-start\n",
    "start-kj\n",
    "dc-start\n",
    "dc-HN\n",
    "LN-dc\n",
    "HN-end\n",
    "kj-sa\n",
    "kj-HN\n",
    "kj-dc\n",
    "\"\"\"\n",
    "\n",
    "input_data = simple_example.split('\\n')\n",
    "# input_data = advanced_example.split('\\n')"
   ]
  },
  {
   "cell_type": "code",
   "execution_count": 4,
   "metadata": {},
   "outputs": [
    {
     "data": {
      "text/plain": [
       "['start-A', 'start-b', 'A-c', 'A-b', 'b-d']"
      ]
     },
     "execution_count": 4,
     "metadata": {},
     "output_type": "execute_result"
    }
   ],
   "source": [
    "paths = [path.replace('\\n', '').strip() for path in input_data if len(path) > 0]\n",
    "paths[:5]\n"
   ]
  },
  {
   "cell_type": "code",
   "execution_count": 5,
   "metadata": {},
   "outputs": [],
   "source": [
    "g = nx.parse_adjlist(paths, delimiter='-')"
   ]
  },
  {
   "cell_type": "code",
   "execution_count": 6,
   "metadata": {},
   "outputs": [
    {
     "data": {
      "image/png": "[encoded data removed]",
      "text/plain": [
       "<Figure size 432x288 with 1 Axes>"
      ]
     },
     "metadata": {},
     "output_type": "display_data"
    }
   ],
   "source": [
    "options = {\n",
    "    \"font_size\": 10,\n",
    "    \"node_size\": 800,\n",
    "    \"node_color\": \"white\",\n",
    "    \"edgecolors\": \"black\",\n",
    "    \"linewidths\": 2,\n",
    "    \"width\": 1,\n",
    "}\n",
    "\n",
    "fixed_positions = {'start': (20,100), 'end': (20, 0)}\n",
    "fixed_nodes = ['start', 'end']\n",
    "\n",
    "layout = nx.spring_layout(g, seed=169, fixed=fixed_nodes, pos=fixed_positions)\n",
    "nx.draw_networkx(G=g, pos=layout, **options)\n",
    "plt.show()"
   ]
  },
  {
   "cell_type": "code",
   "execution_count": 7,
   "metadata": {},
   "outputs": [],
   "source": [
    "def depth_first_search(graph: nx.Graph, location: str, paths: list = []):\n",
    "    if location == 'end':\n",
    "        paths[-1] += ',' + location\n",
    "        paths.append('start')\n",
    "        location = 'start'\n",
    "        print('found an end, returning')\n",
    "        return\n",
    "        # return paths\n",
    "    if location == 'start':\n",
    "        paths.append('start')\n",
    "    else:\n",
    "        paths[-1] += ',' + location\n",
    "    # if re.search('[A-Z].*', location):\n",
    "    #     pass\n",
    "    neighbors = [n for n in graph.neighbors(location)]\n",
    "    print(f\"{location:5s} -> {','.join(neighbors):10s}\")\n",
    "    for neighbor in neighbors:\n",
    "        print(f'exploring neighbor {neighbor:5s} | current path [{paths[-1]:20s}]')\n",
    "        if re.search('[a-z].*', location) and location != 'start':\n",
    "            if location in paths[-1].split(','):\n",
    "                print(f'skipping: {location}')\n",
    "                continue\n",
    "        if neighbor == 'start':\n",
    "            continue\n",
    "        depth_first_search(graph=graph, location=neighbor, paths=paths)\n",
    "    return paths"
   ]
  },
  {
   "cell_type": "code",
   "execution_count": 8,
   "metadata": {},
   "outputs": [
    {
     "name": "stdout",
     "output_type": "stream",
     "text": [
      "start -> A,b       \n",
      "exploring neighbor A     | current path [start               ]\n",
      "A     -> start,c,b,end\n",
      "exploring neighbor start | current path [start,A             ]\n",
      "exploring neighbor c     | current path [start,A             ]\n",
      "c     -> A         \n",
      "exploring neighbor A     | current path [start,A,c           ]\n",
      "skipping: c\n",
      "exploring neighbor b     | current path [start,A,c           ]\n",
      "b     -> start,A,d,end\n",
      "exploring neighbor start | current path [start,A,c,b         ]\n",
      "skipping: b\n",
      "exploring neighbor A     | current path [start,A,c,b         ]\n",
      "skipping: b\n",
      "exploring neighbor d     | current path [start,A,c,b         ]\n",
      "skipping: b\n",
      "exploring neighbor end   | current path [start,A,c,b         ]\n",
      "skipping: b\n",
      "exploring neighbor end   | current path [start,A,c,b         ]\n",
      "found an end, returning\n",
      "exploring neighbor b     | current path [start               ]\n",
      "b     -> start,A,d,end\n",
      "exploring neighbor start | current path [start,b             ]\n",
      "skipping: b\n",
      "exploring neighbor A     | current path [start,b             ]\n",
      "skipping: b\n",
      "exploring neighbor d     | current path [start,b             ]\n",
      "skipping: b\n",
      "exploring neighbor end   | current path [start,b             ]\n",
      "skipping: b\n"
     ]
    },
    {
     "data": {
      "text/plain": [
       "['start,A,c,b,end', 'start,b']"
      ]
     },
     "execution_count": 8,
     "metadata": {},
     "output_type": "execute_result"
    }
   ],
   "source": [
    "depth_first_search(graph=g, location='start')"
   ]
  },
  {
   "cell_type": "code",
   "execution_count": 13,
   "metadata": {},
   "outputs": [
    {
     "name": "stdout",
     "output_type": "stream",
     "text": [
      "0 start\n"
     ]
    },
    {
     "ename": "IndexError",
     "evalue": "list index out of range",
     "output_type": "error",
     "traceback": [
      "\u001b[0;31m---------------------------------------------------------------------------\u001b[0m",
      "\u001b[0;31mIndexError\u001b[0m                                Traceback (most recent call last)",
      "\u001b[0;32m/var/folders/4j/0s9nvzks1jjb7cs8yrg4qf2h0000gn/T/ipykernel_13419/560161837.py\u001b[0m in \u001b[0;36m<module>\u001b[0;34m\u001b[0m\n\u001b[1;32m     30\u001b[0m         \u001b[0;32mreturn\u001b[0m \u001b[0mpaths\u001b[0m\u001b[0;34m\u001b[0m\u001b[0;34m\u001b[0m\u001b[0m\n\u001b[1;32m     31\u001b[0m \u001b[0;34m\u001b[0m\u001b[0m\n\u001b[0;32m---> 32\u001b[0;31m \u001b[0mfind_paths\u001b[0m\u001b[0;34m(\u001b[0m\u001b[0mg\u001b[0m\u001b[0;34m,\u001b[0m \u001b[0msource\u001b[0m\u001b[0;34m,\u001b[0m \u001b[0mtarget\u001b[0m\u001b[0;34m)\u001b[0m\u001b[0;34m\u001b[0m\u001b[0;34m\u001b[0m\u001b[0m\n\u001b[0m",
      "\u001b[0;32m/var/folders/4j/0s9nvzks1jjb7cs8yrg4qf2h0000gn/T/ipykernel_13419/560161837.py\u001b[0m in \u001b[0;36mfind_paths\u001b[0;34m(graph, source, target, paths)\u001b[0m\n\u001b[1;32m     23\u001b[0m                 \u001b[0mpaths\u001b[0m\u001b[0;34m[\u001b[0m\u001b[0mind\u001b[0m\u001b[0;34m]\u001b[0m \u001b[0;34m+=\u001b[0m \u001b[0;34m[\u001b[0m\u001b[0mtarget\u001b[0m\u001b[0;34m]\u001b[0m\u001b[0;34m\u001b[0m\u001b[0;34m\u001b[0m\u001b[0m\n\u001b[1;32m     24\u001b[0m                 \u001b[0;32mbreak\u001b[0m\u001b[0;34m\u001b[0m\u001b[0;34m\u001b[0m\u001b[0m\n\u001b[0;32m---> 25\u001b[0;31m             \u001b[0mpaths\u001b[0m\u001b[0;34m[\u001b[0m\u001b[0mind\u001b[0m\u001b[0;34m]\u001b[0m \u001b[0;34m+=\u001b[0m \u001b[0;34m[\u001b[0m\u001b[0mneighbor\u001b[0m\u001b[0;34m]\u001b[0m\u001b[0;34m\u001b[0m\u001b[0;34m\u001b[0m\u001b[0m\n\u001b[0m\u001b[1;32m     26\u001b[0m             \u001b[0mprint\u001b[0m\u001b[0;34m(\u001b[0m\u001b[0mneighbor\u001b[0m\u001b[0;34m,\u001b[0m \u001b[0mpaths\u001b[0m\u001b[0;34m)\u001b[0m\u001b[0;34m\u001b[0m\u001b[0;34m\u001b[0m\u001b[0m\n\u001b[1;32m     27\u001b[0m     \u001b[0;32mif\u001b[0m \u001b[0;32mnot\u001b[0m \u001b[0mskipped\u001b[0m \u001b[0;34m==\u001b[0m \u001b[0mlen\u001b[0m\u001b[0;34m(\u001b[0m\u001b[0mlast_steps\u001b[0m\u001b[0;34m)\u001b[0m\u001b[0;34m:\u001b[0m\u001b[0;34m\u001b[0m\u001b[0;34m\u001b[0m\u001b[0m\n",
      "\u001b[0;31mIndexError\u001b[0m: list index out of range"
     ]
    }
   ],
   "source": [
    "source = 'start'\n",
    "target = 'end'\n",
    "paths = []\n",
    "\n",
    "def find_paths(graph: nx.Graph, source: str, target: str, paths: list = []):\n",
    "    if len(paths) == 0:\n",
    "        # if we're just beginning set the start to source\n",
    "        last_steps = [source]\n",
    "    else:\n",
    "        # look for unfinished paths\n",
    "        last_steps = [p[-1] for p in paths]\n",
    "        print(paths, last_steps)\n",
    "        return\n",
    "\n",
    "    skipped = 0\n",
    "    for ind, step in enumerate(last_steps):\n",
    "        print(ind,step)\n",
    "        if step == target:\n",
    "            skipped += 1\n",
    "            continue\n",
    "        for neighbor in graph.neighbors(step):\n",
    "            if step == target:\n",
    "                paths[ind] += [target]\n",
    "                break            \n",
    "            paths[ind] += [neighbor]\n",
    "            print(neighbor, paths)\n",
    "    if not skipped == len(last_steps):\n",
    "        find_paths(graph, source, target, paths)\n",
    "    else:\n",
    "        return paths\n",
    "\n",
    "find_paths(g, source, target)"
   ]
  }
 ],
 "metadata": {
  "interpreter": {
   "hash": "f96c4193ab10d5fff2e691bfe69de07d4010d6dcc887300190acbc919acc9b1d"
  },
  "kernelspec": {
   "display_name": "Python 3.9.8 64-bit ('advent2021-sEGx-kI--py3.9': venv)",
   "language": "python",
   "name": "python3"
  },
  "language_info": {
   "codemirror_mode": {
    "name": "ipython",
    "version": 3
   },
   "file_extension": ".py",
   "mimetype": "text/x-python",
   "name": "python",
   "nbconvert_exporter": "python",
   "pygments_lexer": "ipython3",
   "version": "3.9.9"
  },
  "orig_nbformat": 4
 },
 "nbformat": 4,
 "nbformat_minor": 2
}
